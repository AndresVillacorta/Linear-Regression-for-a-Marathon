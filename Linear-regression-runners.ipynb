{
  "cells": [
    {
      "cell_type": "markdown",
      "id": "910fb127-dc6c-41b7-977c-445c8f3a0aa5",
      "metadata": {
        "id": "910fb127-dc6c-41b7-977c-445c8f3a0aa5"
      },
      "source": [
        "GRUPO 5 - INTEGRANTES:\n",
        "- Juan Jano Atiquipa Janampa\n",
        "- Kimberly Dayanne Vigo Miranda\n",
        "- Andres Alexander Villacorta Barrera\n",
        "- Luis Enrique Abanto Villar\n",
        "\n",
        "Link de DataSet: https://www.kaggle.com/datasets/girardi69/marathon-time-predictions"
      ]
    },
    {
      "cell_type": "code",
      "execution_count": null,
      "id": "4d0d3ed8-495c-41e5-9a68-9afa8c5bc6d2",
      "metadata": {
        "id": "4d0d3ed8-495c-41e5-9a68-9afa8c5bc6d2"
      },
      "outputs": [],
      "source": [
        "import pandas as pd\n",
        "import numpy as np\n",
        "import matplotlib.pyplot as plt\n",
        "import seaborn as sns"
      ]
    },
    {
      "cell_type": "markdown",
      "id": "e6f6d1b5-0d7d-4ca7-b823-481b54c2bd4a",
      "metadata": {
        "id": "e6f6d1b5-0d7d-4ca7-b823-481b54c2bd4a"
      },
      "source": [
        "Diccionario de encabezados:\n",
        "\n",
        "- **id** = Identificador del corredor\n",
        "- **Marathon** = Carrera realizada\n",
        "- **Name** = Nombre\n",
        "- **Category** = Categoría a la que pertenece el corredor\n",
        "- **km4week** = Promedio de kilometros recorrridos en las 4 últimas semanas\n",
        "- **sp4week** = Promedio de velocidad en las 4 últimas semanas\n",
        "- **Crosstraining** = Si el corredor además de correr, horas de práctica de crosstraining\n",
        "- **Wall21** = Tiempo en completar media maratón\n",
        "- **MarathonTime** = Tiempo en completar toda la maratín\n",
        "- **CATEGORY** = Categoría del tiempo empleado para completar la maratón"
      ]
    },
    {
      "cell_type": "markdown",
      "id": "27d53651-85ea-4c42-ba4d-930d71282039",
      "metadata": {
        "id": "27d53651-85ea-4c42-ba4d-930d71282039"
      },
      "source": [
        "# 1. Limpieza de datos\n",
        "\n",
        "### 1.1 Missing values"
      ]
    },
    {
      "cell_type": "code",
      "execution_count": null,
      "id": "a5dd0655-bded-4002-b8a1-287d40ac3922",
      "metadata": {
        "id": "a5dd0655-bded-4002-b8a1-287d40ac3922"
      },
      "outputs": [],
      "source": [
        "# Importamos los dataset o conjunto de datos\n",
        "\n",
        "data = pd.read_csv('MarathonData.csv')\n",
        "data.head()"
      ]
    },
    {
      "cell_type": "code",
      "execution_count": null,
      "id": "818a8ee8-a422-4b4c-bfc0-312a99099276",
      "metadata": {
        "id": "818a8ee8-a422-4b4c-bfc0-312a99099276"
      },
      "outputs": [],
      "source": [
        "# Se revisa con qué tipo de datos se va a trabajar\n",
        "\n",
        "data.info()"
      ]
    },
    {
      "cell_type": "code",
      "execution_count": null,
      "id": "11ffbd02-79e0-4be3-a1a9-a5daf5641a4e",
      "metadata": {
        "id": "11ffbd02-79e0-4be3-a1a9-a5daf5641a4e"
      },
      "outputs": [],
      "source": [
        "# Se cambia 'Wall21' de objeto a numérico\n",
        "\n",
        "data['Wall21'] = pd.to_numeric(data['Wall21'], errors = 'coerce')"
      ]
    },
    {
      "cell_type": "code",
      "execution_count": null,
      "id": "367ec329-c63f-4e09-91ca-a1bd18c001ea",
      "metadata": {
        "id": "367ec329-c63f-4e09-91ca-a1bd18c001ea"
      },
      "outputs": [],
      "source": [
        "# Función para detectar columnas con nulos y su porcentaje\n",
        "\n",
        "def porcentaje(columna):\n",
        "  total_null = columna.isnull().sum()\n",
        "  len_data = len(data)\n",
        "  return (total_null/len_data)*100\n",
        "\n",
        "def main(my_data):\n",
        "  columns_null = [var for var in my_data.columns if my_data[var].isnull().sum() > 0]\n",
        "  print(columns_null)\n",
        "\n",
        "  for column_name in columns_null: \n",
        "    print(column_name, porcentaje(my_data[column_name]))\n",
        "\n",
        "main(data)"
      ]
    },
    {
      "cell_type": "markdown",
      "id": "96390cb2-18d4-4287-b9e2-e0337bb6c4f4",
      "metadata": {
        "tags": [],
        "id": "96390cb2-18d4-4287-b9e2-e0337bb6c4f4"
      },
      "source": [
        "### 1.2 Imputación"
      ]
    },
    {
      "cell_type": "markdown",
      "id": "ab69d6c3-c20d-454a-8614-c9fcf3a014b3",
      "metadata": {
        "id": "ab69d6c3-c20d-454a-8614-c9fcf3a014b3"
      },
      "source": [
        "**Nota:** A pesar de que los missing values en 'CrossTraining' superan el 80% no se eliminaron ya que los vacíos representan que el corredor no realiza un entrenamiento adicional."
      ]
    },
    {
      "cell_type": "code",
      "execution_count": null,
      "id": "998c5e6e-fe5c-441e-9ce3-bfdf6bebdd65",
      "metadata": {
        "id": "998c5e6e-fe5c-441e-9ce3-bfdf6bebdd65"
      },
      "outputs": [],
      "source": [
        "# Se llena los vacíos con 0 para aquellas que no practican CrossTraining\n",
        "\n",
        "data['CrossTraining'] = data['CrossTraining'].fillna(0)\n",
        "data"
      ]
    },
    {
      "cell_type": "code",
      "execution_count": null,
      "id": "fbb2d232-a85b-4f8d-abc9-ec8a33f57559",
      "metadata": {
        "id": "fbb2d232-a85b-4f8d-abc9-ec8a33f57559"
      },
      "outputs": [],
      "source": [
        "# Eliminamos 6 filas que contienen nulos en 'Category' y 'Wall21'\n",
        "# Porque no es recomendable imputar la media total a los participantes\n",
        "# Ya que cada uno pertence a categorías diferentes\n",
        "\n",
        "data = data.dropna(how = 'any')\n",
        "data"
      ]
    },
    {
      "cell_type": "markdown",
      "id": "578ed91e-461b-4e40-8bf4-6f610fe34022",
      "metadata": {
        "id": "578ed91e-461b-4e40-8bf4-6f610fe34022"
      },
      "source": [
        "### 1.3 Outliers"
      ]
    },
    {
      "cell_type": "markdown",
      "id": "eaf7bb83-9883-434f-a682-86ac8dca0521",
      "metadata": {
        "id": "eaf7bb83-9883-434f-a682-86ac8dca0521"
      },
      "source": [
        "**Nota:** En el caso de la colummna 'km4week' usamos boxplot porque permite visualizar mejor los outliers."
      ]
    },
    {
      "cell_type": "code",
      "execution_count": null,
      "id": "461ab2fe-7182-4115-a4be-6ce1c5cd37b1",
      "metadata": {
        "id": "461ab2fe-7182-4115-a4be-6ce1c5cd37b1"
      },
      "outputs": [],
      "source": [
        "data.boxplot(column = ['km4week'])\n",
        "plt.show()"
      ]
    },
    {
      "cell_type": "code",
      "execution_count": null,
      "id": "16626531-068a-4640-94af-c521d4d82db6",
      "metadata": {
        "id": "16626531-068a-4640-94af-c521d4d82db6"
      },
      "outputs": [],
      "source": [
        "sns.scatterplot(x='id', y='sp4week', data=data)\n",
        "plt.show()"
      ]
    },
    {
      "cell_type": "code",
      "execution_count": null,
      "id": "617289af-ed17-4b30-a24b-3efaa46b8c2f",
      "metadata": {
        "id": "617289af-ed17-4b30-a24b-3efaa46b8c2f"
      },
      "outputs": [],
      "source": [
        "sns.scatterplot(x='id', y='Wall21', data=data)\n",
        "plt.show()"
      ]
    },
    {
      "cell_type": "code",
      "execution_count": null,
      "id": "ab6fb18d-3cd4-4153-860e-0db38cd3d1e7",
      "metadata": {
        "id": "ab6fb18d-3cd4-4153-860e-0db38cd3d1e7"
      },
      "outputs": [],
      "source": [
        "sns.scatterplot(x='id', y='MarathonTime', data=data)\n",
        "plt.show()"
      ]
    },
    {
      "cell_type": "code",
      "source": [
        "!pip install feature_engine"
      ],
      "metadata": {
        "id": "-iuPTMKmAP7g"
      },
      "id": "-iuPTMKmAP7g",
      "execution_count": null,
      "outputs": []
    },
    {
      "cell_type": "code",
      "execution_count": null,
      "id": "3d5c904b-0026-4806-be81-bb7f86ac487f",
      "metadata": {
        "id": "3d5c904b-0026-4806-be81-bb7f86ac487f"
      },
      "outputs": [],
      "source": [
        "# Se usa el método de cappers para los outliers\n",
        "\n",
        "from feature_engine.outliers import ArbitraryOutlierCapper"
      ]
    },
    {
      "cell_type": "code",
      "execution_count": null,
      "id": "bcd68f4e-169b-4b4e-a255-1101479caba1",
      "metadata": {
        "id": "bcd68f4e-169b-4b4e-a255-1101479caba1"
      },
      "outputs": [],
      "source": [
        "data.km4week.max(), data.sp4week.max()"
      ]
    },
    {
      "cell_type": "code",
      "execution_count": null,
      "id": "d214e011-ae85-4325-8fc8-88b88844a8a9",
      "metadata": {
        "id": "d214e011-ae85-4325-8fc8-88b88844a8a9"
      },
      "outputs": [],
      "source": [
        "# Se establece límites de manera arbitraria\n",
        "\n",
        "capper = ArbitraryOutlierCapper(max_capping_dict={\n",
        "    'km4week': 122, 'sp4week': 15},\n",
        "    min_capping_dict={\n",
        "    'km4week': 17, 'sp4week': 9})\n",
        "\n",
        "capper.fit(data.fillna(0))"
      ]
    },
    {
      "cell_type": "code",
      "execution_count": null,
      "id": "52863fd6-1350-41fe-8e1b-5b120a76c6b3",
      "metadata": {
        "id": "52863fd6-1350-41fe-8e1b-5b120a76c6b3"
      },
      "outputs": [],
      "source": [
        "capper.right_tail_caps_"
      ]
    },
    {
      "cell_type": "code",
      "execution_count": null,
      "id": "219a5cf1-4c05-4cca-92a2-fdbe67f6e18a",
      "metadata": {
        "id": "219a5cf1-4c05-4cca-92a2-fdbe67f6e18a"
      },
      "outputs": [],
      "source": [
        "capper.left_tail_caps_"
      ]
    },
    {
      "cell_type": "code",
      "execution_count": null,
      "id": "dfbda56e-4313-446e-8706-a880b2983c35",
      "metadata": {
        "tags": [],
        "id": "dfbda56e-4313-446e-8706-a880b2983c35"
      },
      "outputs": [],
      "source": [
        "data = capper.transform(data.fillna(0))\n",
        "data.km4week.min(), data.sp4week.min()"
      ]
    },
    {
      "cell_type": "code",
      "execution_count": null,
      "id": "7294c230-60e5-49c9-8611-bdac73d99a08",
      "metadata": {
        "id": "7294c230-60e5-49c9-8611-bdac73d99a08"
      },
      "outputs": [],
      "source": [
        "data.km4week.max(), data.sp4week.max()"
      ]
    },
    {
      "cell_type": "code",
      "execution_count": null,
      "id": "3eb14533-d9b6-4664-b7ad-6feedc5d68ea",
      "metadata": {
        "id": "3eb14533-d9b6-4664-b7ad-6feedc5d68ea"
      },
      "outputs": [],
      "source": [
        "# Comprobamos que ya no existen outliers\n",
        "\n",
        "data.boxplot(column = ['km4week'])\n",
        "plt.show()"
      ]
    },
    {
      "cell_type": "markdown",
      "id": "03e0305d-3829-4476-9e5a-90bb65bc5afa",
      "metadata": {
        "id": "03e0305d-3829-4476-9e5a-90bb65bc5afa"
      },
      "source": [
        "# 2. Transformación y selección de datos\n",
        "### 2.1 Label Encoding"
      ]
    },
    {
      "cell_type": "code",
      "execution_count": null,
      "id": "97b2f04f-a18c-4d9c-b86f-26744db8edbd",
      "metadata": {
        "id": "97b2f04f-a18c-4d9c-b86f-26744db8edbd"
      },
      "outputs": [],
      "source": [
        "# Revisamos las etiquetas de la columna 'CrossTraining'\n",
        "\n",
        "data['CrossTraining'].unique()"
      ]
    },
    {
      "cell_type": "code",
      "execution_count": null,
      "id": "31024289-8f7d-4d0e-bd0f-e7d6c3d6221f",
      "metadata": {
        "id": "31024289-8f7d-4d0e-bd0f-e7d6c3d6221f"
      },
      "outputs": [],
      "source": [
        "# Damos un número a cada etiqueta\n",
        "\n",
        "val_cross = {\n",
        "    'CrossTraining': {\n",
        "        'ciclista 1h': 1,\n",
        "        'ciclista 3h': 2,\n",
        "        'ciclista 4h': 3,\n",
        "        'ciclista 5h': 4,\n",
        "        'ciclista 13h': 5\n",
        "    }\n",
        "}\n",
        "\n",
        "data.replace(val_cross, inplace = True)\n",
        "data"
      ]
    },
    {
      "cell_type": "code",
      "execution_count": null,
      "id": "92d8ec1b-c494-47e8-a410-a62c03983345",
      "metadata": {
        "id": "92d8ec1b-c494-47e8-a410-a62c03983345"
      },
      "outputs": [],
      "source": [
        "# Confirmamos que se haya realizado el cambio\n",
        "\n",
        "data['CrossTraining'].unique()"
      ]
    },
    {
      "cell_type": "code",
      "execution_count": null,
      "id": "79c92372-0f8d-4770-a638-b9402cbb8fe7",
      "metadata": {
        "id": "79c92372-0f8d-4770-a638-b9402cbb8fe7"
      },
      "outputs": [],
      "source": [
        "# Revisamos las etiquetas de la columna 'Category'\n",
        "\n",
        "data['Category'].unique()"
      ]
    },
    {
      "cell_type": "code",
      "execution_count": null,
      "id": "f0b2b4ba-6c6c-4875-8635-710ec29d105f",
      "metadata": {
        "id": "f0b2b4ba-6c6c-4875-8635-710ec29d105f"
      },
      "outputs": [],
      "source": [
        "# Damos un número a cada etiqueta\n",
        "\n",
        "val_cat = {\n",
        "    'Category': {\n",
        "        'MAM': 1,\n",
        "        'M40': 2,\n",
        "        'M45': 3,\n",
        "        'M50': 4,\n",
        "        'M55': 5,\n",
        "        'WAM': 6,\n",
        "    }\n",
        "}\n",
        "\n",
        "data.replace(val_cat, inplace = True)\n",
        "data"
      ]
    },
    {
      "cell_type": "code",
      "execution_count": null,
      "id": "90ec9c6e-3835-439e-95ae-51f21bccd946",
      "metadata": {
        "id": "90ec9c6e-3835-439e-95ae-51f21bccd946"
      },
      "outputs": [],
      "source": [
        "# Confirmamos que se haya realizado el cambio\n",
        "\n",
        "data['Category'].unique()"
      ]
    },
    {
      "cell_type": "markdown",
      "id": "dc63a0db-8037-4893-b386-7ce19d1b0da2",
      "metadata": {
        "id": "dc63a0db-8037-4893-b386-7ce19d1b0da2"
      },
      "source": [
        "### 2.2 Selección de datos"
      ]
    },
    {
      "cell_type": "code",
      "execution_count": null,
      "id": "699f86bd-fc29-49c2-b143-9cfcf30c6b5d",
      "metadata": {
        "id": "699f86bd-fc29-49c2-b143-9cfcf30c6b5d"
      },
      "outputs": [],
      "source": [
        "# eliminamos las columnas que no aportan al modelo\n",
        "\n",
        "data = data.drop(columns = ['Name'])\n",
        "data = data.drop(columns = ['id'])\n",
        "data = data.drop(columns = ['Marathon'])\n",
        "data = data.drop(columns = ['CATEGORY'])\n",
        "data "
      ]
    },
    {
      "cell_type": "markdown",
      "id": "2ad17adc-e33f-4fdd-abcd-624fd1e1fdea",
      "metadata": {
        "id": "2ad17adc-e33f-4fdd-abcd-624fd1e1fdea"
      },
      "source": [
        "# 3. Escalado de datos continuos con output continuo"
      ]
    },
    {
      "cell_type": "code",
      "execution_count": null,
      "id": "27bf7d2f-3c47-4e3e-9729-a14471de9457",
      "metadata": {
        "id": "27bf7d2f-3c47-4e3e-9729-a14471de9457"
      },
      "outputs": [],
      "source": [
        "# Importamos las librerias de estadistica\n",
        "from sklearn.model_selection import train_test_split\n",
        "\n",
        "# Importamos las librerias para el feature selection\n",
        "from sklearn.preprocessing import StandardScaler  # Normalización"
      ]
    },
    {
      "cell_type": "code",
      "execution_count": null,
      "id": "32e2db03-96db-4033-a306-e8be5a7d23f3",
      "metadata": {
        "id": "32e2db03-96db-4033-a306-e8be5a7d23f3"
      },
      "outputs": [],
      "source": [
        "data['MarathonTime'].plot.hist()\n",
        "plt.show()"
      ]
    },
    {
      "cell_type": "code",
      "execution_count": null,
      "id": "c9f30db0-ea1f-47bb-9571-490b29143b8c",
      "metadata": {
        "id": "c9f30db0-ea1f-47bb-9571-490b29143b8c"
      },
      "outputs": [],
      "source": [
        "X_train, X_test, y_train, y_test = train_test_split(data.drop('MarathonTime', axis=1),\n",
        "                                                    data['MarathonTime'],\n",
        "                                                    test_size=0.3,\n",
        "                                                    random_state=0)\n",
        "\n",
        "X_train.shape, X_test.shape"
      ]
    },
    {
      "cell_type": "code",
      "execution_count": null,
      "id": "79ea3eb6-740c-4da6-9dc3-9492bae3157e",
      "metadata": {
        "id": "79ea3eb6-740c-4da6-9dc3-9492bae3157e"
      },
      "outputs": [],
      "source": [
        "means = X_train.mean(axis=0)\n",
        "means"
      ]
    },
    {
      "cell_type": "code",
      "execution_count": null,
      "id": "bfc15c4f-c536-497e-9159-ba8af6a92bc7",
      "metadata": {
        "id": "bfc15c4f-c536-497e-9159-ba8af6a92bc7"
      },
      "outputs": [],
      "source": [
        "ranges = X_train.max(axis=0)-X_train.min(axis=0)\n",
        "ranges"
      ]
    },
    {
      "cell_type": "code",
      "execution_count": null,
      "id": "303c2f51-943c-4c6d-8bd2-e41350611fed",
      "metadata": {
        "id": "303c2f51-943c-4c6d-8bd2-e41350611fed"
      },
      "outputs": [],
      "source": [
        "X_train_scaled = (X_train - means) / ranges\n",
        "X_test_scaled = (X_test - means) / ranges"
      ]
    },
    {
      "cell_type": "code",
      "execution_count": null,
      "id": "0c701f06-271e-480f-88df-831a97ddec51",
      "metadata": {
        "id": "0c701f06-271e-480f-88df-831a97ddec51"
      },
      "outputs": [],
      "source": [
        "# Comparamos la distribución de las variables antes y después del escalado\n",
        "\n",
        "fig, (ax1, ax2) = plt.subplots(ncols=2, figsize=(12, 5))\n",
        "\n",
        "# Antes\n",
        "ax1.set_title('Antes del escalado')\n",
        "sns.kdeplot(X_train['km4week'], ax=ax1)\n",
        "sns.kdeplot(X_train['sp4week'], ax=ax1)\n",
        "sns.kdeplot(X_train['Wall21'], ax=ax1)\n",
        "\n",
        "# Despues\n",
        "ax2.set_title('Despues de la normalizacion')\n",
        "sns.kdeplot(X_train_scaled['km4week'], ax=ax2)\n",
        "sns.kdeplot(X_train_scaled['sp4week'], ax=ax2)\n",
        "sns.kdeplot(X_train_scaled['Wall21'], ax=ax2)\n",
        "plt.show()"
      ]
    },
    {
      "cell_type": "code",
      "execution_count": null,
      "id": "4c4e8272-2c3a-4ac3-a678-e2e0433d85fc",
      "metadata": {
        "id": "4c4e8272-2c3a-4ac3-a678-e2e0433d85fc"
      },
      "outputs": [],
      "source": [
        "np.round(X_train_scaled.describe(include=\"all\"), 1)"
      ]
    },
    {
      "cell_type": "markdown",
      "id": "6a4088f2-2cd6-467f-a4e6-b713e1e32b65",
      "metadata": {
        "id": "6a4088f2-2cd6-467f-a4e6-b713e1e32b65"
      },
      "source": [
        "# 4. Entrenamiento de modelo"
      ]
    },
    {
      "cell_type": "code",
      "execution_count": null,
      "id": "9e347377-7d27-41e4-966e-00f942c888f1",
      "metadata": {
        "id": "9e347377-7d27-41e4-966e-00f942c888f1"
      },
      "outputs": [],
      "source": [
        "# Usamos el modelo de regresión lineal ya que nuestro 'x' e 'y' son numéricos\n",
        "\n",
        "from sklearn.linear_model import LinearRegression"
      ]
    },
    {
      "cell_type": "code",
      "execution_count": null,
      "id": "3f8f15c6-dd2f-4064-939a-960c457ef2da",
      "metadata": {
        "id": "3f8f15c6-dd2f-4064-939a-960c457ef2da"
      },
      "outputs": [],
      "source": [
        "modelo = LinearRegression()\n",
        "modelo.fit(X_train_scaled, y_train)"
      ]
    },
    {
      "cell_type": "code",
      "execution_count": null,
      "id": "5075149b-2a57-4e42-bfac-8bf1a6cd4389",
      "metadata": {
        "id": "5075149b-2a57-4e42-bfac-8bf1a6cd4389"
      },
      "outputs": [],
      "source": [
        "predicciones = modelo.predict(X_test_scaled)\n",
        "predicciones"
      ]
    },
    {
      "cell_type": "markdown",
      "id": "4eb8e902-a7f7-4b39-ba46-c11a92e93d26",
      "metadata": {
        "id": "4eb8e902-a7f7-4b39-ba46-c11a92e93d26"
      },
      "source": [
        "### Determinamos el error cuadrático medio"
      ]
    },
    {
      "cell_type": "code",
      "execution_count": null,
      "id": "7f354e23-c1c9-4e95-bf42-e911e733db47",
      "metadata": {
        "id": "7f354e23-c1c9-4e95-bf42-e911e733db47"
      },
      "outputs": [],
      "source": [
        "from sklearn.metrics import mean_squared_error\n",
        "error = np.sqrt(mean_squared_error(y_test, predicciones))\n",
        "print('Error porcentual: %f' % (error*100))"
      ]
    },
    {
      "cell_type": "markdown",
      "id": "96799d8f-93f6-4e77-958e-07f740c616d0",
      "metadata": {
        "id": "96799d8f-93f6-4e77-958e-07f740c616d0"
      },
      "source": [
        "### Probando el modelo"
      ]
    },
    {
      "cell_type": "code",
      "execution_count": null,
      "id": "c72d0b32-829b-4789-8942-c2a428610fd8",
      "metadata": {
        "id": "c72d0b32-829b-4789-8942-c2a428610fd8"
      },
      "outputs": [],
      "source": [
        "# Ingresamos variable aleatorias para saber cuánto \n",
        "# Tiempo se demora en completar la maratón\n",
        "\n",
        "nuevo_corredor = pd.DataFrame(np.array([[1,100,12,0,1.45]]),columns=['Category', 'km4week','sp4week', 'CrossTraining','Wall21'])\n",
        "nuevo_corredor"
      ]
    },
    {
      "cell_type": "code",
      "execution_count": null,
      "id": "30d1c386-9be7-4c94-bf3c-e71e8858dc2c",
      "metadata": {
        "id": "30d1c386-9be7-4c94-bf3c-e71e8858dc2c"
      },
      "outputs": [],
      "source": [
        "modelo.predict(nuevo_corredor)"
      ]
    }
  ],
  "metadata": {
    "kernelspec": {
      "display_name": "Python 3 (ipykernel)",
      "language": "python",
      "name": "python3"
    },
    "language_info": {
      "codemirror_mode": {
        "name": "ipython",
        "version": 3
      },
      "file_extension": ".py",
      "mimetype": "text/x-python",
      "name": "python",
      "nbconvert_exporter": "python",
      "pygments_lexer": "ipython3",
      "version": "3.11.0"
    },
    "colab": {
      "provenance": []
    }
  },
  "nbformat": 4,
  "nbformat_minor": 5
}